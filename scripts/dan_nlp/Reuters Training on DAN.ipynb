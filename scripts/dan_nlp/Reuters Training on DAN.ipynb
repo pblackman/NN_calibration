{
 "cells": [
  {
   "cell_type": "markdown",
   "metadata": {},
   "source": [
    "# DAN - Reuters"
   ]
  },
  {
   "cell_type": "code",
   "execution_count": null,
   "metadata": {
    "collapsed": true
   },
   "outputs": [],
   "source": [
    "import pandas as pd\n",
    "from keras.preprocessing.text import Tokenizer\n",
    "import keras\n",
    "import numpy as np\n",
    "from sklearn.model_selection import train_test_split\n",
    "from custom_layers import AverageWords, WordDropout \n",
    "from preprocess import PreProcessor"
   ]
  },
  {
   "cell_type": "code",
   "execution_count": 70,
   "metadata": {
    "collapsed": true
   },
   "outputs": [],
   "source": [
    "# Model imports\n",
    "from keras.preprocessing.sequence import pad_sequences\n",
    "from keras import optimizers\n",
    "from keras.layers import Embedding, Dense, Input, BatchNormalization, Activation, Dropout\n",
    "from keras.models import Sequential\n",
    "from keras.optimizers import Adagrad, Adam\n",
    "from keras import backend as K\n",
    "from keras.regularizers import l2\n",
    "from keras.callbacks import EarlyStopping, ReduceLROnPlateau"
   ]
  },
  {
   "cell_type": "markdown",
   "metadata": {},
   "source": [
    "### Variables"
   ]
  },
  {
   "cell_type": "code",
   "execution_count": 2,
   "metadata": {
    "collapsed": true
   },
   "outputs": [],
   "source": [
    "num_classes = 8\n",
    "SEED = 333\n",
    "max_words = 10000"
   ]
  },
  {
   "cell_type": "markdown",
   "metadata": {},
   "source": [
    "## Data loading"
   ]
  },
  {
   "cell_type": "code",
   "execution_count": 133,
   "metadata": {},
   "outputs": [
    {
     "name": "stdout",
     "output_type": "stream",
     "text": [
      "5485 train sequences\n",
      "2189 test sequences\n"
     ]
    }
   ],
   "source": [
    "#TRAIN_PATH = \"../../data/data_reuters/r8-train-all-terms.txt\"\n",
    "#TEST_PATH = \"../../data/data_reuters/r8-test-all-terms.txt\"\n",
    "\n",
    "TRAIN_PATH = \"../../data/data_reuters/r8-train-stemmed.txt\"\n",
    "TEST_PATH = \"../../data/data_reuters/r8-test-stemmed.txt\"\n",
    "\n",
    "train = pd.read_csv(TRAIN_PATH, sep=\"\\t\", header=None)\n",
    "test = pd.read_csv(TEST_PATH, sep=\"\\t\", header=None)\n",
    "\n",
    "x_train_txt = train[1].values\n",
    "y_train_txt = train[0].values\n",
    "x_test_txt = test[1].values\n",
    "y_test_txt = test[0].values\n",
    "\n",
    "print(len(x_train_txt), 'train sequences')\n",
    "print(len(x_test_txt), 'test sequences')"
   ]
  },
  {
   "cell_type": "code",
   "execution_count": 134,
   "metadata": {},
   "outputs": [
    {
     "data": {
      "text/plain": [
       "'champion product approv stock split champion product inc board director approv two for stock split common share for sharehold record april compani board vote recommend sharehold annual meet april increas author capit stock mln mln share reuter'"
      ]
     },
     "execution_count": 134,
     "metadata": {},
     "output_type": "execute_result"
    }
   ],
   "source": [
    "x_train_txt[0]"
   ]
  },
  {
   "cell_type": "markdown",
   "metadata": {},
   "source": [
    "## Prep labels (y_test, y_train)"
   ]
  },
  {
   "cell_type": "code",
   "execution_count": 135,
   "metadata": {
    "collapsed": true
   },
   "outputs": [],
   "source": [
    "labels = sorted(set(test[0]))\n",
    "\n",
    "y_test = [labels.index(l) for l in y_test_txt]\n",
    "y_train = [labels.index(l) for l in y_train_txt]"
   ]
  },
  {
   "cell_type": "code",
   "execution_count": 136,
   "metadata": {},
   "outputs": [
    {
     "name": "stdout",
     "output_type": "stream",
     "text": [
      "y_train shape: (5485, 8)\n",
      "y_test shape: (2189, 8)\n"
     ]
    }
   ],
   "source": [
    "y_test = keras.utils.to_categorical(y_test, num_classes)\n",
    "y_train = keras.utils.to_categorical(y_train, num_classes)\n",
    "print('y_train shape:', y_train.shape)\n",
    "print('y_test shape:', y_test.shape)"
   ]
  },
  {
   "cell_type": "markdown",
   "metadata": {},
   "source": [
    "### Split data"
   ]
  },
  {
   "cell_type": "code",
   "execution_count": 137,
   "metadata": {
    "collapsed": true
   },
   "outputs": [],
   "source": [
    "x_train80_txt, x_val_txt, y_train80, y_val = train_test_split(x_train_txt, y_train, test_size=0.2, random_state=SEED, shuffle=True)"
   ]
  },
  {
   "cell_type": "code",
   "execution_count": 138,
   "metadata": {},
   "outputs": [
    {
     "name": "stdout",
     "output_type": "stream",
     "text": [
      "y_train80 shape: (4388, 8)\n",
      "y_val shape: (1097, 8)\n"
     ]
    }
   ],
   "source": [
    "print('y_train80 shape:', y_train80.shape)\n",
    "print('y_val shape:', y_val.shape)"
   ]
  },
  {
   "cell_type": "markdown",
   "metadata": {},
   "source": [
    "## Tokenize the data"
   ]
  },
  {
   "cell_type": "code",
   "execution_count": 275,
   "metadata": {},
   "outputs": [
    {
     "name": "stdout",
     "output_type": "stream",
     "text": [
      "Vectorizing sequence data...\n",
      "4388\n"
     ]
    }
   ],
   "source": [
    "print('Vectorizing sequence data...')\n",
    "tok = Tokenizer(num_words=7000)\n",
    "tok.fit_on_texts(x_train80_txt)\n",
    "# summarize what was learned\n",
    "print(tok.document_count)"
   ]
  },
  {
   "cell_type": "code",
   "execution_count": 276,
   "metadata": {},
   "outputs": [
    {
     "data": {
      "text/plain": [
       "13075"
      ]
     },
     "execution_count": 276,
     "metadata": {},
     "output_type": "execute_result"
    }
   ],
   "source": [
    "len(tok.word_counts)"
   ]
  },
  {
   "cell_type": "code",
   "execution_count": 277,
   "metadata": {
    "collapsed": true
   },
   "outputs": [],
   "source": [
    "x_train80 = tok.texts_to_sequences(x_train80_txt)\n",
    "x_val = tok.texts_to_sequences(x_val_txt)\n",
    "x_test = tok.texts_to_sequences(x_test_txt)"
   ]
  },
  {
   "cell_type": "markdown",
   "metadata": {},
   "source": [
    "### Data padding"
   ]
  },
  {
   "cell_type": "code",
   "execution_count": 278,
   "metadata": {
    "collapsed": true
   },
   "outputs": [],
   "source": [
    "MAX_SEQUENCE_LENGTH = max([len(x_train80[i]) for i in range(len(x_train80))])\n",
    "MAX_SEQUENCE_LENGTH = 200\n",
    "\n",
    "x_train80 = pad_sequences(x_train80, maxlen=MAX_SEQUENCE_LENGTH)\n",
    "x_val = pad_sequences(x_val, maxlen=MAX_SEQUENCE_LENGTH)\n",
    "x_test = pad_sequences(x_test, maxlen=MAX_SEQUENCE_LENGTH)"
   ]
  },
  {
   "cell_type": "code",
   "execution_count": 279,
   "metadata": {},
   "outputs": [
    {
     "data": {
      "text/plain": [
       "200"
      ]
     },
     "execution_count": 279,
     "metadata": {},
     "output_type": "execute_result"
    }
   ],
   "source": [
    "MAX_SEQUENCE_LENGTH"
   ]
  },
  {
   "cell_type": "markdown",
   "metadata": {},
   "source": [
    "## Model"
   ]
  },
  {
   "cell_type": "markdown",
   "metadata": {
    "collapsed": true
   },
   "source": [
    "Code base from https://github.com/aravindsiv/dan_qa (also AverageWords, WordDropout layers)"
   ]
  },
  {
   "cell_type": "code",
   "execution_count": 282,
   "metadata": {},
   "outputs": [
    {
     "name": "stdout",
     "output_type": "stream",
     "text": [
      "Number of classes: 8\n"
     ]
    }
   ],
   "source": [
    "embedding_dim = 300\n",
    "num_hidden_layers = 3\n",
    "num_hidden_units = 300\n",
    "num_epochs = 100\n",
    "batch_size = 256\n",
    "dropout_rate = 0.2\n",
    "word_dropout_rate = 0.3\n",
    "weight_decay = 1e-5\n",
    "activation = 'relu'\n",
    "num_classes = y_train80.shape[1]\n",
    "print(\"Number of classes:\", num_classes)"
   ]
  },
  {
   "cell_type": "code",
   "execution_count": 283,
   "metadata": {
    "collapsed": true
   },
   "outputs": [],
   "source": [
    "model = Sequential()\n",
    "model.add(Embedding(len(tok.word_index) + 1,embedding_dim,input_length=MAX_SEQUENCE_LENGTH,trainable=False))\n",
    "model.add(WordDropout(word_dropout_rate))\n",
    "model.add(AverageWords())\n",
    "\n",
    "for i in range(num_hidden_layers):\n",
    "    model.add(Dense(num_hidden_units, kernel_initializer='he_normal', kernel_regularizer=l2(weight_decay)))\n",
    "    model.add(BatchNormalization())\n",
    "    model.add(Activation(activation))\n",
    "    #model.add(Dropout(dropout_rate))\n",
    "\n",
    "model.add(Dense(num_classes, kernel_initializer='he_normal', kernel_regularizer=l2(weight_decay)))\n",
    "#model.add(BatchNormalization())  # Last batch norm needed?\n",
    "#model.add(Dropout(dropout_rate))\n",
    "model.add(Activation('softmax'))\n",
    "\n",
    "adagrad = optimizers.Adagrad(lr=0.1)\n",
    "model.compile(loss='categorical_crossentropy',optimizer=adagrad,metrics=['accuracy'])\n",
    "\n",
    "#model.summary()"
   ]
  },
  {
   "cell_type": "code",
   "execution_count": 284,
   "metadata": {
    "collapsed": true,
    "scrolled": true
   },
   "outputs": [],
   "source": [
    "cbks = [EarlyStopping(patience=25), ReduceLROnPlateau(patience=10, verbose=1)]"
   ]
  },
  {
   "cell_type": "code",
   "execution_count": 285,
   "metadata": {
    "scrolled": true
   },
   "outputs": [
    {
     "name": "stdout",
     "output_type": "stream",
     "text": [
      "Train on 4388 samples, validate on 1097 samples\n",
      "Epoch 1/100\n",
      "4388/4388 [==============================] - 13s - loss: 3.0865 - acc: 0.4733 - val_loss: 4.5527 - val_acc: 0.4959\n",
      "Epoch 2/100\n",
      "4388/4388 [==============================] - 9s - loss: 1.7716 - acc: 0.6165 - val_loss: 3.1274 - val_acc: 0.3245\n",
      "Epoch 3/100\n",
      "4388/4388 [==============================] - 8s - loss: 1.2697 - acc: 0.6784 - val_loss: 1.4979 - val_acc: 0.5251\n",
      "Epoch 4/100\n",
      "4388/4388 [==============================] - 9s - loss: 0.9801 - acc: 0.7199 - val_loss: 1.9651 - val_acc: 0.3200\n",
      "Epoch 5/100\n",
      "4388/4388 [==============================] - 9s - loss: 0.8505 - acc: 0.7564 - val_loss: 2.0394 - val_acc: 0.5397\n",
      "Epoch 6/100\n",
      "4388/4388 [==============================] - 7s - loss: 0.7518 - acc: 0.7817 - val_loss: 2.5904 - val_acc: 0.3072\n",
      "Epoch 7/100\n",
      "4388/4388 [==============================] - 7s - loss: 0.7092 - acc: 0.7917 - val_loss: 2.1166 - val_acc: 0.3291\n",
      "Epoch 8/100\n",
      "4388/4388 [==============================] - 8s - loss: 0.6422 - acc: 0.8127 - val_loss: 2.1198 - val_acc: 0.3537\n",
      "Epoch 9/100\n",
      "4388/4388 [==============================] - 7s - loss: 0.5939 - acc: 0.8238 - val_loss: 1.3461 - val_acc: 0.5524\n",
      "Epoch 10/100\n",
      "4388/4388 [==============================] - 7s - loss: 0.5494 - acc: 0.8375 - val_loss: 7.1028 - val_acc: 0.3081\n",
      "Epoch 11/100\n",
      "4388/4388 [==============================] - 6s - loss: 0.6294 - acc: 0.8232 - val_loss: 1.7601 - val_acc: 0.5488\n",
      "Epoch 12/100\n",
      "4388/4388 [==============================] - 6s - loss: 0.4984 - acc: 0.8560 - val_loss: 1.4521 - val_acc: 0.5524\n",
      "Epoch 13/100\n",
      "4388/4388 [==============================] - 7s - loss: 0.4719 - acc: 0.8592 - val_loss: 1.1859 - val_acc: 0.6235\n",
      "Epoch 14/100\n",
      "4388/4388 [==============================] - 6s - loss: 0.4648 - acc: 0.8605 - val_loss: 2.2792 - val_acc: 0.3984\n",
      "Epoch 15/100\n",
      "4388/4388 [==============================] - 7s - loss: 0.4623 - acc: 0.8596 - val_loss: 2.0472 - val_acc: 0.5469\n",
      "Epoch 16/100\n",
      "4388/4388 [==============================] - 7s - loss: 0.4475 - acc: 0.8667 - val_loss: 3.5143 - val_acc: 0.3072\n",
      "Epoch 17/100\n",
      "4388/4388 [==============================] - 7s - loss: 0.4251 - acc: 0.8758 - val_loss: 2.6546 - val_acc: 0.3163\n",
      "Epoch 18/100\n",
      "4388/4388 [==============================] - 7s - loss: 0.3860 - acc: 0.8874 - val_loss: 3.7772 - val_acc: 0.5451\n",
      "Epoch 19/100\n",
      "4388/4388 [==============================] - 6s - loss: 0.3984 - acc: 0.8772 - val_loss: 3.3488 - val_acc: 0.2990\n",
      "Epoch 20/100\n",
      "4388/4388 [==============================] - 6s - loss: 0.4064 - acc: 0.8829 - val_loss: 2.7381 - val_acc: 0.5433\n",
      "Epoch 21/100\n",
      "4388/4388 [==============================] - 5s - loss: 0.3961 - acc: 0.8840 - val_loss: 3.3750 - val_acc: 0.4403\n",
      "Epoch 22/100\n",
      "4388/4388 [==============================] - 6s - loss: 0.4015 - acc: 0.8838 - val_loss: 6.6116 - val_acc: 0.3519\n",
      "Epoch 23/100\n",
      "4388/4388 [==============================] - 5s - loss: 0.3817 - acc: 0.8911 - val_loss: 2.5193 - val_acc: 0.4950\n",
      "Epoch 24/100\n",
      "4352/4388 [============================>.] - ETA: 0s - loss: 0.3561 - acc: 0.8957\n",
      "Epoch 00023: reducing learning rate to 0.010000000149011612.\n",
      "4388/4388 [==============================] - 7s - loss: 0.3575 - acc: 0.8952 - val_loss: 3.1698 - val_acc: 0.3965\n",
      "Epoch 25/100\n",
      "4388/4388 [==============================] - 5s - loss: 0.3838 - acc: 0.8874 - val_loss: 1.4786 - val_acc: 0.5980\n",
      "Epoch 26/100\n",
      "4388/4388 [==============================] - 5s - loss: 0.3252 - acc: 0.9068 - val_loss: 1.3090 - val_acc: 0.5688\n",
      "Epoch 27/100\n",
      "4388/4388 [==============================] - 5s - loss: 0.3089 - acc: 0.9155 - val_loss: 1.2233 - val_acc: 0.6472\n",
      "Epoch 28/100\n",
      "4388/4388 [==============================] - 6s - loss: 0.2974 - acc: 0.9241 - val_loss: 1.3952 - val_acc: 0.5907\n",
      "Epoch 29/100\n",
      "4388/4388 [==============================] - 6s - loss: 0.3014 - acc: 0.9136 - val_loss: 0.9466 - val_acc: 0.7265\n",
      "Epoch 30/100\n",
      "4388/4388 [==============================] - 6s - loss: 0.3043 - acc: 0.9159 - val_loss: 0.7832 - val_acc: 0.7621\n",
      "Epoch 31/100\n",
      "4388/4388 [==============================] - 7s - loss: 0.2932 - acc: 0.9152 - val_loss: 0.6808 - val_acc: 0.8049\n",
      "Epoch 32/100\n",
      "4388/4388 [==============================] - 6s - loss: 0.2996 - acc: 0.9184 - val_loss: 1.1705 - val_acc: 0.7019\n",
      "Epoch 33/100\n",
      "4388/4388 [==============================] - 9s - loss: 0.2964 - acc: 0.9177 - val_loss: 0.8882 - val_acc: 0.7593\n",
      "Epoch 34/100\n",
      "4388/4388 [==============================] - 10s - loss: 0.2859 - acc: 0.9214 - val_loss: 0.6103 - val_acc: 0.8377\n",
      "Epoch 35/100\n",
      "4388/4388 [==============================] - 8s - loss: 0.2913 - acc: 0.9189 - val_loss: 0.6990 - val_acc: 0.8031\n",
      "Epoch 36/100\n",
      "4388/4388 [==============================] - 6s - loss: 0.2875 - acc: 0.9230 - val_loss: 1.2158 - val_acc: 0.6974\n",
      "Epoch 37/100\n",
      "4388/4388 [==============================] - 6s - loss: 0.2844 - acc: 0.9202 - val_loss: 0.5236 - val_acc: 0.8605\n",
      "Epoch 38/100\n",
      "4388/4388 [==============================] - 8s - loss: 0.2796 - acc: 0.9205 - val_loss: 0.4815 - val_acc: 0.8696\n",
      "Epoch 39/100\n",
      "4388/4388 [==============================] - 8s - loss: 0.2824 - acc: 0.9225 - val_loss: 0.4783 - val_acc: 0.8861\n",
      "Epoch 40/100\n",
      "4388/4388 [==============================] - 6s - loss: 0.2788 - acc: 0.9237 - val_loss: 0.6110 - val_acc: 0.8523\n",
      "Epoch 41/100\n",
      "4388/4388 [==============================] - 6s - loss: 0.2759 - acc: 0.9225 - val_loss: 0.6737 - val_acc: 0.8277\n",
      "Epoch 42/100\n",
      "4388/4388 [==============================] - 6s - loss: 0.2756 - acc: 0.9268 - val_loss: 0.5169 - val_acc: 0.8696\n",
      "Epoch 43/100\n",
      "4388/4388 [==============================] - 5s - loss: 0.2836 - acc: 0.9234 - val_loss: 0.5601 - val_acc: 0.8706\n",
      "Epoch 44/100\n",
      "4388/4388 [==============================] - 6s - loss: 0.2733 - acc: 0.9246 - val_loss: 0.4825 - val_acc: 0.8870\n",
      "Epoch 45/100\n",
      "4388/4388 [==============================] - 5s - loss: 0.2751 - acc: 0.9227 - val_loss: 0.5759 - val_acc: 0.8624\n",
      "Epoch 46/100\n",
      "4388/4388 [==============================] - 6s - loss: 0.2673 - acc: 0.9273 - val_loss: 0.8322 - val_acc: 0.8131\n",
      "Epoch 47/100\n",
      "4388/4388 [==============================] - 6s - loss: 0.2721 - acc: 0.9264 - val_loss: 0.9568 - val_acc: 0.7922\n",
      "Epoch 48/100\n",
      "4388/4388 [==============================] - 6s - loss: 0.2698 - acc: 0.9278 - val_loss: 0.7150 - val_acc: 0.8295\n",
      "Epoch 49/100\n",
      "4388/4388 [==============================] - 7s - loss: 0.2743 - acc: 0.9253 - val_loss: 0.5839 - val_acc: 0.8715\n",
      "Epoch 50/100\n",
      "4352/4388 [============================>.] - ETA: 0s - loss: 0.2714 - acc: 0.9235\n",
      "Epoch 00049: reducing learning rate to 0.0009999999776482583.\n",
      "4388/4388 [==============================] - 6s - loss: 0.2743 - acc: 0.9234 - val_loss: 1.8039 - val_acc: 0.6946\n",
      "Epoch 51/100\n",
      "4388/4388 [==============================] - 6s - loss: 0.2801 - acc: 0.9264 - val_loss: 0.7330 - val_acc: 0.8341\n",
      "Epoch 52/100\n",
      "4388/4388 [==============================] - 7s - loss: 0.2688 - acc: 0.9239 - val_loss: 0.5015 - val_acc: 0.8797\n",
      "Epoch 53/100\n",
      "4388/4388 [==============================] - 8s - loss: 0.2583 - acc: 0.9266 - val_loss: 0.4714 - val_acc: 0.8943\n",
      "Epoch 54/100\n",
      "4388/4388 [==============================] - 6s - loss: 0.2583 - acc: 0.9305 - val_loss: 0.4569 - val_acc: 0.8997\n",
      "Epoch 55/100\n",
      "4388/4388 [==============================] - 6s - loss: 0.2585 - acc: 0.9273 - val_loss: 0.4663 - val_acc: 0.8970\n",
      "Epoch 56/100\n",
      "4388/4388 [==============================] - 6s - loss: 0.2689 - acc: 0.9246 - val_loss: 0.4627 - val_acc: 0.8970\n",
      "Epoch 57/100\n",
      "4388/4388 [==============================] - 5s - loss: 0.2687 - acc: 0.9268 - val_loss: 0.4678 - val_acc: 0.8979\n",
      "Epoch 58/100\n",
      "4388/4388 [==============================] - 5s - loss: 0.2695 - acc: 0.9259 - val_loss: 0.4757 - val_acc: 0.8970\n",
      "Epoch 59/100\n",
      "4388/4388 [==============================] - 5s - loss: 0.2619 - acc: 0.9268 - val_loss: 0.4668 - val_acc: 0.8988\n",
      "Epoch 60/100\n",
      "4388/4388 [==============================] - 5s - loss: 0.2673 - acc: 0.9266 - val_loss: 0.4710 - val_acc: 0.8979\n",
      "Epoch 61/100\n",
      "4388/4388 [==============================] - 5s - loss: 0.2664 - acc: 0.9246 - val_loss: 0.4866 - val_acc: 0.8979\n",
      "Epoch 62/100\n",
      "4388/4388 [==============================] - 6s - loss: 0.2640 - acc: 0.9262 - val_loss: 0.4895 - val_acc: 0.8970\n",
      "Epoch 63/100\n",
      "4388/4388 [==============================] - 5s - loss: 0.2662 - acc: 0.9282 - val_loss: 0.4793 - val_acc: 0.8979\n",
      "Epoch 64/100\n",
      "4388/4388 [==============================] - 5s - loss: 0.2688 - acc: 0.9271 - val_loss: 0.4799 - val_acc: 0.8988\n",
      "Epoch 65/100\n",
      "4352/4388 [============================>.] - ETA: 0s - loss: 0.2777 - acc: 0.9235\n",
      "Epoch 00064: reducing learning rate to 9.999999310821295e-05.\n",
      "4388/4388 [==============================] - 5s - loss: 0.2776 - acc: 0.9239 - val_loss: 0.4689 - val_acc: 0.9025\n",
      "Epoch 66/100\n",
      "4388/4388 [==============================] - 5s - loss: 0.2532 - acc: 0.9294 - val_loss: 0.4700 - val_acc: 0.9034\n",
      "Epoch 67/100\n",
      "4388/4388 [==============================] - 5s - loss: 0.2725 - acc: 0.9200 - val_loss: 0.4710 - val_acc: 0.9034\n",
      "Epoch 68/100\n",
      "4388/4388 [==============================] - 5s - loss: 0.2594 - acc: 0.9271 - val_loss: 0.4728 - val_acc: 0.9025\n",
      "Epoch 69/100\n",
      "4388/4388 [==============================] - 6s - loss: 0.2785 - acc: 0.9198 - val_loss: 0.4736 - val_acc: 0.9025\n",
      "Epoch 70/100\n",
      "4388/4388 [==============================] - 6s - loss: 0.2689 - acc: 0.9250 - val_loss: 0.4745 - val_acc: 0.9006\n",
      "Epoch 71/100\n",
      "4388/4388 [==============================] - 5s - loss: 0.2752 - acc: 0.9239 - val_loss: 0.4754 - val_acc: 0.8997\n",
      "Epoch 72/100\n",
      "4388/4388 [==============================] - 5s - loss: 0.2594 - acc: 0.9284 - val_loss: 0.4753 - val_acc: 0.8997\n",
      "Epoch 73/100\n",
      "4388/4388 [==============================] - 5s - loss: 0.2774 - acc: 0.9234 - val_loss: 0.4763 - val_acc: 0.8997\n",
      "Epoch 74/100\n",
      "4388/4388 [==============================] - 5s - loss: 0.2680 - acc: 0.9239 - val_loss: 0.4760 - val_acc: 0.8997\n",
      "Epoch 75/100\n",
      "4352/4388 [============================>.] - ETA: 0s - loss: 0.2670 - acc: 0.9278\n",
      "Epoch 00074: reducing learning rate to 9.999999019782991e-06.\n",
      "4388/4388 [==============================] - 5s - loss: 0.2671 - acc: 0.9278 - val_loss: 0.4769 - val_acc: 0.8988\n",
      "Epoch 76/100\n",
      "4388/4388 [==============================] - 5s - loss: 0.2570 - acc: 0.9289 - val_loss: 0.4772 - val_acc: 0.8997\n",
      "Epoch 77/100\n",
      "4388/4388 [==============================] - 6s - loss: 0.2621 - acc: 0.9275 - val_loss: 0.4773 - val_acc: 0.8997\n",
      "Epoch 78/100\n",
      "4388/4388 [==============================] - 5s - loss: 0.2662 - acc: 0.9296 - val_loss: 0.4773 - val_acc: 0.8997\n",
      "Epoch 79/100\n",
      "4388/4388 [==============================] - 5s - loss: 0.2692 - acc: 0.9239 - val_loss: 0.4765 - val_acc: 0.8988\n",
      "Epoch 80/100\n",
      "4388/4388 [==============================] - 5s - loss: 0.2617 - acc: 0.9289 - val_loss: 0.4771 - val_acc: 0.8997\n"
     ]
    }
   ],
   "source": [
    "hist = model.fit(x_train80, y_train80, batch_size=batch_size, epochs=num_epochs, validation_data=(x_val,y_val), callbacks=cbks)"
   ]
  },
  {
   "cell_type": "code",
   "execution_count": 173,
   "metadata": {
    "collapsed": true
   },
   "outputs": [],
   "source": [
    "from matplotlib import pyplot as plt\n",
    "\n",
    "def plot_hist(history):\n",
    "    plt.plot(history.history['acc'])\n",
    "    plt.plot(history.history['val_acc'])\n",
    "    plt.title('model accuracy')\n",
    "    plt.ylabel('accuracy')\n",
    "    plt.xlabel('epoch')\n",
    "    plt.legend(['train', 'test'], loc='upper left')\n",
    "    plt.show()\n",
    "    # summarize history for loss\n",
    "    plt.plot(history.history['loss'])\n",
    "    plt.plot(history.history['val_loss'])\n",
    "    plt.title('model loss')\n",
    "    plt.ylabel('loss')\n",
    "    plt.xlabel('epoch')\n",
    "    plt.legend(['train', 'test'], loc='upper left')\n",
    "    plt.show()"
   ]
  },
  {
   "cell_type": "code",
   "execution_count": 239,
   "metadata": {},
   "outputs": [
    {
     "data": {
      "image/png": "[encoded data removed]",
      "text/plain": [
       "<matplotlib.figure.Figure at 0x25b568e5400>"
      ]
     },
     "metadata": {},
     "output_type": "display_data"
    },
    {
     "data": {
      "image/png": "[encoded data removed]",
      "text/plain": [
       "<matplotlib.figure.Figure at 0x25a72bc9e48>"
      ]
     },
     "metadata": {},
     "output_type": "display_data"
    }
   ],
   "source": [
    "plot_hist(hist)"
   ]
  },
  {
   "cell_type": "code",
   "execution_count": 235,
   "metadata": {},
   "outputs": [
    {
     "name": "stdout",
     "output_type": "stream",
     "text": [
      "2080/2189 [===========================>..] - ETA: 0s"
     ]
    },
    {
     "data": {
      "text/plain": [
       "[0.46402216891601999, 0.92873458202814285]"
      ]
     },
     "execution_count": 235,
     "metadata": {},
     "output_type": "execute_result"
    }
   ],
   "source": [
    "model.evaluate(x_test, y_test)"
   ]
  }
 ],
 "metadata": {
  "kernelspec": {
   "display_name": "Python 3",
   "language": "python",
   "name": "python3"
  },
  "language_info": {
   "codemirror_mode": {
    "name": "ipython",
    "version": 3
   },
   "file_extension": ".py",
   "mimetype": "text/x-python",
   "name": "python",
   "nbconvert_exporter": "python",
   "pygments_lexer": "ipython3",
   "version": "3.6.4"
  }
 },
 "nbformat": 4,
 "nbformat_minor": 2
}
