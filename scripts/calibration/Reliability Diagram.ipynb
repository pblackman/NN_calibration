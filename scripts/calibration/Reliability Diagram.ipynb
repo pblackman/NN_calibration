{
 "cells": [
  {
   "cell_type": "markdown",
   "metadata": {},
   "source": [
    "# Reliability Diagram"
   ]
  },
  {
   "cell_type": "code",
   "execution_count": 1,
   "metadata": {},
   "outputs": [
    {
     "name": "stderr",
     "output_type": "stream",
     "text": [
      "Using TensorFlow backend.\n"
     ]
    }
   ],
   "source": [
    "from matplotlib import pyplot as plt\n",
    "import numpy as np\n",
    "import pandas as pd\n",
    "from os.path import join\n",
    "\n",
    "from cal_methods import HistogramBinning, TemperatureScaling\n",
    "from betacal import BetaCalibration\n",
    "from sklearn.isotonic import IsotonicRegression\n",
    "from sklearn.linear_model import LogisticRegression"
   ]
  },
  {
   "cell_type": "code",
   "execution_count": 2,
   "metadata": {},
   "outputs": [],
   "source": [
    "# Imports to get \"utility\" package\n",
    "import sys\n",
    "from os import path\n",
    "sys.path.append( path.dirname( path.dirname( path.abspath(\"utility\") ) ) )\n",
    "from utility.unpickle_probs import unpickle_probs\n",
    "from utility.evaluation import get_bin_info, softmax"
   ]
  },
  {
   "cell_type": "markdown",
   "metadata": {},
   "source": [
    "Script for plotting reliability diagrams."
   ]
  },
  {
   "cell_type": "markdown",
   "metadata": {},
   "source": [
    "## Load in the data"
   ]
  },
  {
   "cell_type": "code",
   "execution_count": 3,
   "metadata": {},
   "outputs": [],
   "source": [
    "PATH = join('..', '..', 'logits')\n",
    "files = (\n",
    "        'probs_resnet110_c10_logits.p', 'probs_resnet110_c100_logits.p', \n",
    "        'probs_densenet40_c10_logits.p', 'probs_densenet40_c100_logits.p',\n",
    "        'probs_resnet_wide32_c10_logits.p', 'probs_resnet_wide32_c100_logits.p',\n",
    "        'probs_resnet50_birds_logits.p', \n",
    "        'probs_resnet110_SD_c10_logits.p', 'probs_resnet110_SD_c100_logits.p', \n",
    "        'probs_resnet152_SD_SVHN_logits.p',\n",
    "        'probs_resnet152_imgnet_logits.p', 'probs_densenet161_imgnet_logits.p'\n",
    "        )\n",
    "files_sky = ('probs_sky_2_43_logits.p')"
   ]
  },
  {
   "cell_type": "markdown",
   "metadata": {},
   "source": [
    "### Reliability diagrams as subgraph"
   ]
  },
  {
   "cell_type": "code",
   "execution_count": 4,
   "metadata": {},
   "outputs": [],
   "source": [
    "# reliability diagram plotting for subplot case.\n",
    "def rel_diagram_sub(accs, confs, ax, M = 10, name = \"Reliability Diagram\", xname = \"\", yname=\"\"):\n",
    "\n",
    "    acc_conf = np.column_stack([accs,confs])\n",
    "    acc_conf.sort(axis=1)\n",
    "    outputs = acc_conf[:, 0]\n",
    "    gap = acc_conf[:, 1]\n",
    "\n",
    "    bin_size = 1/M\n",
    "    positions = np.arange(0+bin_size/2, 1+bin_size/2, bin_size)\n",
    "\n",
    "    # Plot gap first, so its below everything\n",
    "    gap_plt = ax.bar(positions, gap, width = bin_size, edgecolor = \"red\", color = \"red\", alpha = 0.3, label=\"Gap\", linewidth=2, zorder=2)\n",
    "\n",
    "    # Next add error lines\n",
    "    #for i in range(M):\n",
    "        #plt.plot([i/M,1], [0, (M-i)/M], color = \"red\", alpha=0.5, zorder=1)\n",
    "\n",
    "    #Bars with outputs\n",
    "    output_plt = ax.bar(positions, outputs, width = bin_size, edgecolor = \"black\", color = \"blue\", label=\"Outputs\", zorder = 3)\n",
    "\n",
    "    # Line plot with center line.\n",
    "    ax.set_aspect('equal')\n",
    "    ax.plot([0,1], [0,1], linestyle = \"--\")\n",
    "    ax.legend(handles = [gap_plt, output_plt])\n",
    "    ax.set_xlim(0,1)\n",
    "    ax.set_ylim(0,1)\n",
    "    ax.set_title(name, fontsize=24)\n",
    "    ax.set_xlabel(xname, fontsize=22, color = \"black\")\n",
    "    ax.set_ylabel(yname, fontsize=22, color = \"black\")"
   ]
  },
  {
   "cell_type": "code",
   "execution_count": 5,
   "metadata": {},
   "outputs": [],
   "source": [
    "def get_pred_conf(y_probs, normalize = False):\n",
    "    \n",
    "    y_preds = np.argmax(y_probs, axis=1)  # Take maximum confidence as prediction\n",
    "    \n",
    "    if normalize:\n",
    "        y_confs = np.max(y_probs, axis=1)/np.sum(y_probs, axis=1)\n",
    "    else:\n",
    "        y_confs = np.max(y_probs, axis=1)  # Take only maximum confidence\n",
    "        \n",
    "    return y_preds, y_confs"
   ]
  },
  {
   "cell_type": "markdown",
   "metadata": {},
   "source": [
    "## Calibration methods for both 1-vs-rest and mutliclass approach"
   ]
  },
  {
   "cell_type": "code",
   "execution_count": 6,
   "metadata": {},
   "outputs": [],
   "source": [
    "# TODO add into scripts\n",
    "def cal_res(method, path, file, M = 15, name = \"\", approach = \"single\", m_kwargs = {}):\n",
    "    \n",
    "    bin_size = 1/M\n",
    "\n",
    "    FILE_PATH = join(path, file)\n",
    "    (y_logits_val, y_val), (y_logits_test, y_test) = unpickle_probs(FILE_PATH)\n",
    "\n",
    "    y_probs_val = softmax(y_logits_val)  # Softmax logits\n",
    "    y_probs_test = softmax(y_logits_test)\n",
    "    \n",
    "    if approach == \"single\":\n",
    "        \n",
    "        K = y_probs_test.shape[1]\n",
    "\n",
    "        # Go through all the classes\n",
    "        for k in range(K):\n",
    "            # Prep class labels (1 fixed true class, 0 other classes)\n",
    "            y_cal = np.array(y_val == k, dtype=\"int\")[:, 0]\n",
    "\n",
    "            # Train model\n",
    "            model = method(**m_kwargs)\n",
    "            model.fit(y_probs_val[:, k], y_cal) # Get only one column with probs for given class \"k\"\n",
    "\n",
    "            y_probs_val[:, k] = model.predict(y_probs_val[:, k])  # Predict new values based on the fittting\n",
    "            y_probs_test[:, k] = model.predict(y_probs_test[:, k])\n",
    "\n",
    "            # Replace NaN with 0, as it should be close to zero  # TODO is it needed?\n",
    "            idx_nan = np.where(np.isnan(y_probs_test))\n",
    "            y_probs_test[idx_nan] = 0\n",
    "\n",
    "            idx_nan = np.where(np.isnan(y_probs_val))\n",
    "            y_probs_val[idx_nan] = 0\n",
    "            \n",
    "            y_preds_val, y_confs_val = get_pred_conf(y_probs_val, normalize = True)\n",
    "            y_preds_test, y_confs_test = get_pred_conf(y_probs_test, normalize = True)\n",
    "    \n",
    "    else:\n",
    "        model = method(**m_kwargs)\n",
    "        model.fit(y_logits_val, y_val)\n",
    "\n",
    "        y_probs_val = model.predict(y_logits_val) \n",
    "        y_probs_test = model.predict(y_logits_test)\n",
    "\n",
    "        y_preds_val, y_confs_val = get_pred_conf(y_probs_val, normalize = False)\n",
    "        y_preds_test, y_confs_test = get_pred_conf(y_probs_test, normalize = False)\n",
    "    \n",
    "\n",
    "    \n",
    "    accs_val, confs_val, len_bins_val = get_bin_info(y_confs_val, y_preds_val, y_val, bin_size = bin_size)\n",
    "    accs_test, confs_test, len_bins_test = get_bin_info(y_confs_test, y_preds_test, y_test, bin_size = bin_size)\n",
    "    \n",
    "    return (accs_test, confs_test, len_bins_test), (accs_val, confs_val, len_bins_val)\n",
    "    "
   ]
  },
  {
   "cell_type": "code",
   "execution_count": 7,
   "metadata": {},
   "outputs": [],
   "source": [
    "def get_uncalibrated_res(path, file, M = 15):\n",
    "    \n",
    "    bin_size = 1/M\n",
    "\n",
    "    FILE_PATH = join(path, file)\n",
    "    (y_logits_val, y_val), (y_logits_test, y_test) = unpickle_probs(FILE_PATH)\n",
    "\n",
    "    y_probs_test = softmax(y_logits_test)\n",
    "    y_preds_test, y_confs_test = get_pred_conf(y_probs_test, normalize = False)\n",
    "    \n",
    "    return get_bin_info(y_confs_test, y_preds_test, y_test, bin_size = bin_size)\n",
    "\n"
   ]
  },
  {
   "cell_type": "code",
   "execution_count": 8,
   "metadata": {},
   "outputs": [],
   "source": [
    "import pickle\n",
    "\n",
    "def gen_plots(files, plot_names =  [], M = 15, val_set = False):\n",
    "    \n",
    "    if val_set:  # Plot Reliability diagrams for validation set\n",
    "        k = 1\n",
    "    else:\n",
    "        k = 0\n",
    "\n",
    "    for i, file in enumerate(files):\n",
    "        \n",
    "        bin_info_uncal = get_uncalibrated_res(PATH, file, M)\n",
    "\n",
    "        accs_confs = []\n",
    "\n",
    "        accs_confs.append(cal_res(TemperatureScaling, PATH, file, M, \"\", \"multi\"))\n",
    "        accs_confs.append(cal_res(HistogramBinning, PATH, file, M, \"\", \"single\", {'M':M}))\n",
    "        accs_confs.append(cal_res(IsotonicRegression, PATH, file, M, \"\", \"single\", {'y_min':0, 'y_max':1}))\n",
    "        accs_confs.append(cal_res(BetaCalibration, PATH, file, M, \"\", \"single\", {'parameters':\"abm\"}))\n",
    "        \n",
    "        with open(plot_names[i] + \"_bin_info.p\", \"wb\") as f:\n",
    "            pickle.dump(accs_confs, f)\n",
    "\n",
    "        plt.style.use('ggplot')\n",
    "        fig, ax = plt.subplots(nrows=1, ncols=5, figsize=(22.5, 4), sharex='col', sharey='row')\n",
    "        names = [\" (Uncal)\", \" (Temp)\", \" (Histo)\", \" (Iso)\", \" (Beta)\"]\n",
    "        \n",
    "        # Uncalibrated information\n",
    "        rel_diagram_sub(bin_info_uncal[0], bin_info_uncal[1], ax[0] , M = M, name = \"\\n\".join(plot_names[i].split()) + names[0], xname=\"Confidence\")\n",
    "\n",
    "        for j in range(4):\n",
    "            rel_diagram_sub(accs_confs[j][k][0], accs_confs[j][k][1], ax[j+1] , M = M, name = \"\\n\".join(plot_names[i].split()) + names[j+1], xname=\"Confidence\")\n",
    "\n",
    "        ax[0].set_ylabel(\"Accuracy\", color = \"black\")\n",
    "        \n",
    "        for ax_temp in ax:    \n",
    "            plt.setp(ax_temp.get_xticklabels(), rotation='horizontal', fontsize=18)\n",
    "            plt.setp(ax_temp.get_yticklabels(), fontsize=18)\n",
    "\n",
    "        plt.savefig(\"_\".join(plot_names[i].split()) + \".pdf\", format='pdf', dpi=1000, bbox_inches='tight', pad_inches=0.2)\n",
    "        plt.show()"
   ]
  },
  {
   "cell_type": "code",
   "execution_count": 10,
   "metadata": {},
   "outputs": [
    {
     "name": "stdout",
     "output_type": "stream",
     "text": [
      "file: ../../logits/p\n"
     ]
    },
    {
     "ename": "FileNotFoundError",
     "evalue": "[Errno 2] No such file or directory: '../../logits/p'",
     "output_type": "error",
     "traceback": [
      "\u001b[0;31m---------------------------------------------------------------------------\u001b[0m",
      "\u001b[0;31mFileNotFoundError\u001b[0m                         Traceback (most recent call last)",
      "\u001b[0;32m<ipython-input-10-6a88e34c5676>\u001b[0m in \u001b[0;36m<module>\u001b[0;34m\u001b[0m\n\u001b[1;32m      6\u001b[0m                               \u001b[0;31m#\"ResNet-152(SD) SVHN\",\u001b[0m\u001b[0;34m\u001b[0m\u001b[0;34m\u001b[0m\u001b[0;34m\u001b[0m\u001b[0m\n\u001b[1;32m      7\u001b[0m                               \u001b[0;31m#\"ResNet-152 ImageNet\", \"DenseNet-161 ImageNet\"\u001b[0m\u001b[0;34m\u001b[0m\u001b[0;34m\u001b[0m\u001b[0;34m\u001b[0m\u001b[0m\n\u001b[0;32m----> 8\u001b[0;31m                                ], M = 10, val_set=False)\n\u001b[0m\u001b[1;32m      9\u001b[0m \u001b[0;34m\u001b[0m\u001b[0m\n\u001b[1;32m     10\u001b[0m gen_plots(files_sky[:2], plot_names = [\"ResNet-110(SD) CIFAR-10\", \"ResNet-110(SD) CIFAR-100\", \n",
      "\u001b[0;32m<ipython-input-8-28c4da72af6d>\u001b[0m in \u001b[0;36mgen_plots\u001b[0;34m(files, plot_names, M, val_set)\u001b[0m\n\u001b[1;32m     10\u001b[0m     \u001b[0;32mfor\u001b[0m \u001b[0mi\u001b[0m\u001b[0;34m,\u001b[0m \u001b[0mfile\u001b[0m \u001b[0;32min\u001b[0m \u001b[0menumerate\u001b[0m\u001b[0;34m(\u001b[0m\u001b[0mfiles\u001b[0m\u001b[0;34m)\u001b[0m\u001b[0;34m:\u001b[0m\u001b[0;34m\u001b[0m\u001b[0;34m\u001b[0m\u001b[0m\n\u001b[1;32m     11\u001b[0m \u001b[0;34m\u001b[0m\u001b[0m\n\u001b[0;32m---> 12\u001b[0;31m         \u001b[0mbin_info_uncal\u001b[0m \u001b[0;34m=\u001b[0m \u001b[0mget_uncalibrated_res\u001b[0m\u001b[0;34m(\u001b[0m\u001b[0mPATH\u001b[0m\u001b[0;34m,\u001b[0m \u001b[0mfile\u001b[0m\u001b[0;34m,\u001b[0m \u001b[0mM\u001b[0m\u001b[0;34m)\u001b[0m\u001b[0;34m\u001b[0m\u001b[0;34m\u001b[0m\u001b[0m\n\u001b[0m\u001b[1;32m     13\u001b[0m \u001b[0;34m\u001b[0m\u001b[0m\n\u001b[1;32m     14\u001b[0m         \u001b[0maccs_confs\u001b[0m \u001b[0;34m=\u001b[0m \u001b[0;34m[\u001b[0m\u001b[0;34m]\u001b[0m\u001b[0;34m\u001b[0m\u001b[0;34m\u001b[0m\u001b[0m\n",
      "\u001b[0;32m<ipython-input-7-ec2dc549b5b4>\u001b[0m in \u001b[0;36mget_uncalibrated_res\u001b[0;34m(path, file, M)\u001b[0m\n\u001b[1;32m      4\u001b[0m \u001b[0;34m\u001b[0m\u001b[0m\n\u001b[1;32m      5\u001b[0m     \u001b[0mFILE_PATH\u001b[0m \u001b[0;34m=\u001b[0m \u001b[0mjoin\u001b[0m\u001b[0;34m(\u001b[0m\u001b[0mpath\u001b[0m\u001b[0;34m,\u001b[0m \u001b[0mfile\u001b[0m\u001b[0;34m)\u001b[0m\u001b[0;34m\u001b[0m\u001b[0;34m\u001b[0m\u001b[0m\n\u001b[0;32m----> 6\u001b[0;31m     \u001b[0;34m(\u001b[0m\u001b[0my_logits_val\u001b[0m\u001b[0;34m,\u001b[0m \u001b[0my_val\u001b[0m\u001b[0;34m)\u001b[0m\u001b[0;34m,\u001b[0m \u001b[0;34m(\u001b[0m\u001b[0my_logits_test\u001b[0m\u001b[0;34m,\u001b[0m \u001b[0my_test\u001b[0m\u001b[0;34m)\u001b[0m \u001b[0;34m=\u001b[0m \u001b[0munpickle_probs\u001b[0m\u001b[0;34m(\u001b[0m\u001b[0mFILE_PATH\u001b[0m\u001b[0;34m)\u001b[0m\u001b[0;34m\u001b[0m\u001b[0;34m\u001b[0m\u001b[0m\n\u001b[0m\u001b[1;32m      7\u001b[0m \u001b[0;34m\u001b[0m\u001b[0m\n\u001b[1;32m      8\u001b[0m     \u001b[0my_probs_test\u001b[0m \u001b[0;34m=\u001b[0m \u001b[0msoftmax\u001b[0m\u001b[0;34m(\u001b[0m\u001b[0my_logits_test\u001b[0m\u001b[0;34m)\u001b[0m\u001b[0;34m\u001b[0m\u001b[0;34m\u001b[0m\u001b[0m\n",
      "\u001b[0;32m/data/NN_calibration/scripts/utility/unpickle_probs.py\u001b[0m in \u001b[0;36munpickle_probs\u001b[0;34m(file, verbose)\u001b[0m\n\u001b[1;32m     10\u001b[0m \u001b[0;32mdef\u001b[0m \u001b[0munpickle_probs\u001b[0m\u001b[0;34m(\u001b[0m\u001b[0mfile\u001b[0m\u001b[0;34m,\u001b[0m \u001b[0mverbose\u001b[0m \u001b[0;34m=\u001b[0m \u001b[0;36m0\u001b[0m\u001b[0;34m)\u001b[0m\u001b[0;34m:\u001b[0m\u001b[0;34m\u001b[0m\u001b[0;34m\u001b[0m\u001b[0m\n\u001b[1;32m     11\u001b[0m     \u001b[0mprint\u001b[0m\u001b[0;34m(\u001b[0m\u001b[0;34m\"file:\"\u001b[0m\u001b[0;34m,\u001b[0m \u001b[0mfile\u001b[0m\u001b[0;34m)\u001b[0m\u001b[0;34m\u001b[0m\u001b[0;34m\u001b[0m\u001b[0m\n\u001b[0;32m---> 12\u001b[0;31m     \u001b[0;32mwith\u001b[0m \u001b[0mopen\u001b[0m\u001b[0;34m(\u001b[0m\u001b[0mfile\u001b[0m\u001b[0;34m,\u001b[0m \u001b[0;34m'rb'\u001b[0m\u001b[0;34m)\u001b[0m \u001b[0;32mas\u001b[0m \u001b[0mf\u001b[0m\u001b[0;34m:\u001b[0m  \u001b[0;31m# Python 3: open(..., 'rb')\u001b[0m\u001b[0;34m\u001b[0m\u001b[0;34m\u001b[0m\u001b[0m\n\u001b[0m\u001b[1;32m     13\u001b[0m         \u001b[0;34m(\u001b[0m\u001b[0my_probs_val\u001b[0m\u001b[0;34m,\u001b[0m \u001b[0my_val\u001b[0m\u001b[0;34m)\u001b[0m\u001b[0;34m,\u001b[0m \u001b[0;34m(\u001b[0m\u001b[0my_probs_test\u001b[0m\u001b[0;34m,\u001b[0m \u001b[0my_test\u001b[0m\u001b[0;34m)\u001b[0m \u001b[0;34m=\u001b[0m \u001b[0mpickle\u001b[0m\u001b[0;34m.\u001b[0m\u001b[0mload\u001b[0m\u001b[0;34m(\u001b[0m\u001b[0mf\u001b[0m\u001b[0;34m)\u001b[0m  \u001b[0;31m# unpickle the content\u001b[0m\u001b[0;34m\u001b[0m\u001b[0;34m\u001b[0m\u001b[0m\n\u001b[1;32m     14\u001b[0m \u001b[0;34m\u001b[0m\u001b[0m\n",
      "\u001b[0;31mFileNotFoundError\u001b[0m: [Errno 2] No such file or directory: '../../logits/p'"
     ]
    }
   ],
   "source": [
    "gen_plots(files_sky[:2], plot_names = [\"ResNet-110(SD) CIFAR-10\", \"ResNet-110(SD) CIFAR-100\", \n",
    "                               #\"DenseNet-40 CIFAR-10\", \"DenseNet-40 CIFAR-100\", \n",
    "                               #\"WideNet-32 CIFAR-10\", \"WideNet-32 CIFAR-100\", \n",
    "                               #\"ResNet-50 Birds\", \"ResNet-110(SD) CIFAR-10\",\n",
    "                               #\"ResNet-110(SD) CIFAR-100\",\n",
    "                              #\"ResNet-152(SD) SVHN\",\n",
    "                              #\"ResNet-152 ImageNet\", \"DenseNet-161 ImageNet\"\n",
    "                               ], M = 10, val_set=False)\n",
    "\n",
    "gen_plots(files_sky[:2], plot_names = [\"ResNet-110(SD) CIFAR-10\", \"ResNet-110(SD) CIFAR-100\", \n",
    "                               #\"DenseNet-40 CIFAR-10\", \"DenseNet-40 CIFAR-100\", \n",
    "                               #\"WideNet-32 CIFAR-10\", \"WideNet-32 CIFAR-100\", \n",
    "                               #\"ResNet-50 Birds\", \"ResNet-110(SD) CIFAR-10\",\n",
    "                               #\"ResNet-110(SD) CIFAR-100\",\n",
    "                              #\"ResNet-152(SD) SVHN\",\n",
    "                              #\"ResNet-152 ImageNet\", \"DenseNet-161 ImageNet\"\n",
    "                               ], M = 10, val_set=False)"
   ]
  },
  {
   "cell_type": "code",
   "execution_count": 11,
   "metadata": {
    "scrolled": true
   },
   "outputs": [
    {
     "name": "stdout",
     "output_type": "stream",
     "text": [
      "file: ../../logits/p\n"
     ]
    },
    {
     "ename": "FileNotFoundError",
     "evalue": "[Errno 2] No such file or directory: '../../logits/p'",
     "output_type": "error",
     "traceback": [
      "\u001b[0;31m---------------------------------------------------------------------------\u001b[0m",
      "\u001b[0;31mFileNotFoundError\u001b[0m                         Traceback (most recent call last)",
      "\u001b[0;32m<ipython-input-11-8faa18319939>\u001b[0m in \u001b[0;36m<module>\u001b[0;34m\u001b[0m\n\u001b[1;32m      6\u001b[0m                                \u001b[0;34m\"ResNet-152(SD) SVHN\"\u001b[0m\u001b[0;34m,\u001b[0m\u001b[0;34m\u001b[0m\u001b[0;34m\u001b[0m\u001b[0m\n\u001b[1;32m      7\u001b[0m                                \u001b[0;31m#\"ResNet-152 ImageNet\", \"DenseNet-161 ImageNet\"\u001b[0m\u001b[0;34m\u001b[0m\u001b[0;34m\u001b[0m\u001b[0;34m\u001b[0m\u001b[0m\n\u001b[0;32m----> 8\u001b[0;31m                                ], val_set = False)\n\u001b[0m",
      "\u001b[0;32m<ipython-input-8-28c4da72af6d>\u001b[0m in \u001b[0;36mgen_plots\u001b[0;34m(files, plot_names, M, val_set)\u001b[0m\n\u001b[1;32m     10\u001b[0m     \u001b[0;32mfor\u001b[0m \u001b[0mi\u001b[0m\u001b[0;34m,\u001b[0m \u001b[0mfile\u001b[0m \u001b[0;32min\u001b[0m \u001b[0menumerate\u001b[0m\u001b[0;34m(\u001b[0m\u001b[0mfiles\u001b[0m\u001b[0;34m)\u001b[0m\u001b[0;34m:\u001b[0m\u001b[0;34m\u001b[0m\u001b[0;34m\u001b[0m\u001b[0m\n\u001b[1;32m     11\u001b[0m \u001b[0;34m\u001b[0m\u001b[0m\n\u001b[0;32m---> 12\u001b[0;31m         \u001b[0mbin_info_uncal\u001b[0m \u001b[0;34m=\u001b[0m \u001b[0mget_uncalibrated_res\u001b[0m\u001b[0;34m(\u001b[0m\u001b[0mPATH\u001b[0m\u001b[0;34m,\u001b[0m \u001b[0mfile\u001b[0m\u001b[0;34m,\u001b[0m \u001b[0mM\u001b[0m\u001b[0;34m)\u001b[0m\u001b[0;34m\u001b[0m\u001b[0;34m\u001b[0m\u001b[0m\n\u001b[0m\u001b[1;32m     13\u001b[0m \u001b[0;34m\u001b[0m\u001b[0m\n\u001b[1;32m     14\u001b[0m         \u001b[0maccs_confs\u001b[0m \u001b[0;34m=\u001b[0m \u001b[0;34m[\u001b[0m\u001b[0;34m]\u001b[0m\u001b[0;34m\u001b[0m\u001b[0;34m\u001b[0m\u001b[0m\n",
      "\u001b[0;32m<ipython-input-7-ec2dc549b5b4>\u001b[0m in \u001b[0;36mget_uncalibrated_res\u001b[0;34m(path, file, M)\u001b[0m\n\u001b[1;32m      4\u001b[0m \u001b[0;34m\u001b[0m\u001b[0m\n\u001b[1;32m      5\u001b[0m     \u001b[0mFILE_PATH\u001b[0m \u001b[0;34m=\u001b[0m \u001b[0mjoin\u001b[0m\u001b[0;34m(\u001b[0m\u001b[0mpath\u001b[0m\u001b[0;34m,\u001b[0m \u001b[0mfile\u001b[0m\u001b[0;34m)\u001b[0m\u001b[0;34m\u001b[0m\u001b[0;34m\u001b[0m\u001b[0m\n\u001b[0;32m----> 6\u001b[0;31m     \u001b[0;34m(\u001b[0m\u001b[0my_logits_val\u001b[0m\u001b[0;34m,\u001b[0m \u001b[0my_val\u001b[0m\u001b[0;34m)\u001b[0m\u001b[0;34m,\u001b[0m \u001b[0;34m(\u001b[0m\u001b[0my_logits_test\u001b[0m\u001b[0;34m,\u001b[0m \u001b[0my_test\u001b[0m\u001b[0;34m)\u001b[0m \u001b[0;34m=\u001b[0m \u001b[0munpickle_probs\u001b[0m\u001b[0;34m(\u001b[0m\u001b[0mFILE_PATH\u001b[0m\u001b[0;34m)\u001b[0m\u001b[0;34m\u001b[0m\u001b[0;34m\u001b[0m\u001b[0m\n\u001b[0m\u001b[1;32m      7\u001b[0m \u001b[0;34m\u001b[0m\u001b[0m\n\u001b[1;32m      8\u001b[0m     \u001b[0my_probs_test\u001b[0m \u001b[0;34m=\u001b[0m \u001b[0msoftmax\u001b[0m\u001b[0;34m(\u001b[0m\u001b[0my_logits_test\u001b[0m\u001b[0;34m)\u001b[0m\u001b[0;34m\u001b[0m\u001b[0;34m\u001b[0m\u001b[0m\n",
      "\u001b[0;32m/data/NN_calibration/scripts/utility/unpickle_probs.py\u001b[0m in \u001b[0;36munpickle_probs\u001b[0;34m(file, verbose)\u001b[0m\n\u001b[1;32m     10\u001b[0m \u001b[0;32mdef\u001b[0m \u001b[0munpickle_probs\u001b[0m\u001b[0;34m(\u001b[0m\u001b[0mfile\u001b[0m\u001b[0;34m,\u001b[0m \u001b[0mverbose\u001b[0m \u001b[0;34m=\u001b[0m \u001b[0;36m0\u001b[0m\u001b[0;34m)\u001b[0m\u001b[0;34m:\u001b[0m\u001b[0;34m\u001b[0m\u001b[0;34m\u001b[0m\u001b[0m\n\u001b[1;32m     11\u001b[0m     \u001b[0mprint\u001b[0m\u001b[0;34m(\u001b[0m\u001b[0;34m\"file:\"\u001b[0m\u001b[0;34m,\u001b[0m \u001b[0mfile\u001b[0m\u001b[0;34m)\u001b[0m\u001b[0;34m\u001b[0m\u001b[0;34m\u001b[0m\u001b[0m\n\u001b[0;32m---> 12\u001b[0;31m     \u001b[0;32mwith\u001b[0m \u001b[0mopen\u001b[0m\u001b[0;34m(\u001b[0m\u001b[0mfile\u001b[0m\u001b[0;34m,\u001b[0m \u001b[0;34m'rb'\u001b[0m\u001b[0;34m)\u001b[0m \u001b[0;32mas\u001b[0m \u001b[0mf\u001b[0m\u001b[0;34m:\u001b[0m  \u001b[0;31m# Python 3: open(..., 'rb')\u001b[0m\u001b[0;34m\u001b[0m\u001b[0;34m\u001b[0m\u001b[0m\n\u001b[0m\u001b[1;32m     13\u001b[0m         \u001b[0;34m(\u001b[0m\u001b[0my_probs_val\u001b[0m\u001b[0;34m,\u001b[0m \u001b[0my_val\u001b[0m\u001b[0;34m)\u001b[0m\u001b[0;34m,\u001b[0m \u001b[0;34m(\u001b[0m\u001b[0my_probs_test\u001b[0m\u001b[0;34m,\u001b[0m \u001b[0my_test\u001b[0m\u001b[0;34m)\u001b[0m \u001b[0;34m=\u001b[0m \u001b[0mpickle\u001b[0m\u001b[0;34m.\u001b[0m\u001b[0mload\u001b[0m\u001b[0;34m(\u001b[0m\u001b[0mf\u001b[0m\u001b[0;34m)\u001b[0m  \u001b[0;31m# unpickle the content\u001b[0m\u001b[0;34m\u001b[0m\u001b[0;34m\u001b[0m\u001b[0m\n\u001b[1;32m     14\u001b[0m \u001b[0;34m\u001b[0m\u001b[0m\n",
      "\u001b[0;31mFileNotFoundError\u001b[0m: [Errno 2] No such file or directory: '../../logits/p'"
     ]
    }
   ],
   "source": [
    "gen_plots(files_sky, plot_names = [\"ResNet-110 CIFAR-10\", \"ResNet-110 CIFAR-100\", \n",
    "                               \"DenseNet-40 CIFAR-10\", \"DenseNet-40 CIFAR-100\", \n",
    "                               \"WideNet-32 CIFAR-10\", \"WideNet-32 CIFAR-100\", \n",
    "                               \"ResNet-50 Birds\", \n",
    "                               \"ResNet-110(SD) CIFAR-10\", \"ResNet-110(SD) CIFAR-100\", \n",
    "                               \"ResNet-152(SD) SVHN\",\n",
    "                               #\"ResNet-152 ImageNet\", \"DenseNet-161 ImageNet\"\n",
    "                               ], val_set = False)"
   ]
  },
  {
   "cell_type": "code",
   "execution_count": null,
   "metadata": {
    "collapsed": true
   },
   "outputs": [],
   "source": []
  }
 ],
 "metadata": {
  "kernelspec": {
   "display_name": "Python 3",
   "language": "python",
   "name": "python3"
  },
  "language_info": {
   "codemirror_mode": {
    "name": "ipython",
    "version": 3
   },
   "file_extension": ".py",
   "mimetype": "text/x-python",
   "name": "python",
   "nbconvert_exporter": "python",
   "pygments_lexer": "ipython3",
   "version": "3.6.8"
  }
 },
 "nbformat": 4,
 "nbformat_minor": 2
}
